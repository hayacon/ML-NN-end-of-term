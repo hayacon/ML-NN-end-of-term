{
 "cells": [
  {
   "cell_type": "markdown",
   "metadata": {},
   "source": [
    "# End of term coursework"
   ]
  },
  {
   "cell_type": "markdown",
   "metadata": {},
   "source": [
    "## Introduction "
   ]
  },
  {
   "cell_type": "markdown",
   "metadata": {},
   "source": [
    "This project follows the universal workflow of machine learning from DLWP 4.5 (p.111). <br>\n",
    "Based on this workflow, the project first needs to define the problem and assembling the dataset. The problem that this project trying to solve is the multiclass image classification of fashion items.\n",
    "This project will develop the ML model that will classify the type of fashion item. The inputs to the model will be the image of a fashion item and the output will be the type or label of a fashion item such as trousers or dress.\n",
    "This project will be using the dataset \"fashion_mnist\"(https://www.tensorflow.org/datasets/catalog/fashion_mnist) from TensorFlow Dataset.  When building an ML model, there are few problems that I need to be aware of. One example is nonstationary problems can occur when a model is trying to predict something dependent on the season. For example, making fashion recommendations for winter based on the data from August will not work. However, the problem for this project is stationary and nonstationary problems will not apply. "
   ]
  },
  {
   "cell_type": "markdown",
   "metadata": {},
   "source": [
    "The measure of success for this problem will be accuracy. How accurate the model can classify the fashion item will be the most important. The model will choose the loss function based on this measure. "
   ]
  },
  {
   "cell_type": "markdown",
   "metadata": {},
   "source": [
    "### Data preparation "
   ]
  },
  {
   "cell_type": "markdown",
   "metadata": {},
   "source": [
    "As I mentioned, I will be using \"fashion_mnist\" dataset (https://www.tensorflow.org/datasets/catalog/fashion_mnist) from TensorFlow Dataset.<br>\n",
    "The dataset is designed the same way as MNIST dataset. It consists of 60,000 grayscale images of 28x28 pixels and additional 10,000images for the test. Therefore, I can hypothesize that my output can be predicted from the input which is the image of a fashion item and the dataset is informative enough for the model to learn relationships between inputs image and output label.<br>\n",
    "To use the dataset from the TensorFlow dataset, I need to install the following package. "
   ]
  },
  {
   "cell_type": "code",
   "execution_count": 4,
   "metadata": {},
   "outputs": [],
   "source": [
    "!pip install tensorflow-datasets -q"
   ]
  },
  {
   "cell_type": "markdown",
   "metadata": {},
   "source": [
    "This is the stable version of the TensorFlow dataset package. There is another version that updates datasets daily but that is not required for this project and a stable version is more suitable. "
   ]
  },
  {
   "cell_type": "markdown",
   "metadata": {},
   "source": [
    "Install all necessary packages for this project"
   ]
  },
  {
   "cell_type": "code",
   "execution_count": 9,
   "metadata": {},
   "outputs": [],
   "source": [
    "!pip install tensorflow -q"
   ]
  },
  {
   "cell_type": "markdown",
   "metadata": {},
   "source": [
    "Import all necessaru modlues for this projecrt"
   ]
  },
  {
   "cell_type": "code",
   "execution_count": 8,
   "metadata": {},
   "outputs": [],
   "source": [
    "import matplotlib.pyplot as plt\n",
    "import numpy as np\n",
    "import tensorflow as tf\n",
    "\n",
    "import tensorflow_datasets as tfds "
   ]
  },
  {
   "cell_type": "markdown",
   "metadata": {},
   "source": [
    "Now, the dataset can be load to this project with the following code. \n",
    "```python \n",
    "ds = tfds.load('fashion_mnist', split, shuffle_files)\n",
    "```\n",
    "The split argument will determine how to split the dataset, and the shuffle_files argument specifies whether shullfle the dataset or not. These will be specifies as train the model."
   ]
  },
  {
   "cell_type": "markdown",
   "metadata": {},
   "source": [
    "## Methodology "
   ]
  },
  {
   "cell_type": "markdown",
   "metadata": {},
   "source": [
    "## Results"
   ]
  },
  {
   "cell_type": "markdown",
   "metadata": {},
   "source": [
    "## Conclusion "
   ]
  }
 ],
 "metadata": {
  "kernelspec": {
   "display_name": "Python 3",
   "language": "python",
   "name": "python3"
  },
  "language_info": {
   "codemirror_mode": {
    "name": "ipython",
    "version": 3
   },
   "file_extension": ".py",
   "mimetype": "text/x-python",
   "name": "python",
   "nbconvert_exporter": "python",
   "pygments_lexer": "ipython3",
   "version": "3.7.2"
  }
 },
 "nbformat": 4,
 "nbformat_minor": 4
}
